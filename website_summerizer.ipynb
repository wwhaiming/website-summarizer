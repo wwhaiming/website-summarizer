{
 "cells": [
  {
   "cell_type": "code",
   "execution_count": null,
   "id": "5af5228e-4958-4f7c-adc0-5b8ba130f383",
   "metadata": {},
   "outputs": [],
   "source": [
    "# imports\n",
    "import requests\n",
    "from bs4 import BeautifulSoup\n",
    "from IPython.display import Markdown, display\n",
    "import ollama"
   ]
  },
  {
   "cell_type": "code",
   "execution_count": null,
   "id": "9cd85cae-5c78-4665-9c4c-258cdd741963",
   "metadata": {},
   "outputs": [],
   "source": [
    "!ollama pull llama3.2\n",
    "\n",
    "# instantiating variables\n",
    "HEADERS = {\"Content-Type\": \"application/json\"}\n",
    "headers = {\n",
    " \"User-Agent\": \"Mozilla/5.0 (Windows NT 10.0; Win64; x64) AppleWebKit/537.36 (KHTML, like Gecko) Chrome/117.0.0.0 Safari/537.36\"\n",
    "}\n",
    "\n",
    "# a method for displaying a message in markdown form\n",
    "def display_in_markdown(message):\n",
    "    return display(Markdown(message))\n",
    "\n",
    "# a class for crawling a website using beautiful soup\n",
    "class Website:\n",
    "\n",
    "    def __init__(self, url):\n",
    "        \"\"\"\n",
    "        Create this Website object from the given url using the BeautifulSoup library\n",
    "        \"\"\"\n",
    "        self.url = url\n",
    "        response = requests.get(url, headers=headers)\n",
    "        soup = BeautifulSoup(response.content, 'html.parser')\n",
    "        self.title = soup.title.string if soup.title else \"No title found\"\n",
    "        for irrelevant in soup.body([\"script\", \"style\", \"img\", \"input\"]):\n",
    "            irrelevant.decompose()\n",
    "        self.text = soup.body.get_text(separator=\"\\n\", strip=True)\n",
    "\n",
    "    def get_text(self):\n",
    "        return f\"{self.title}\\n{self.text}\""
   ]
  },
  {
   "cell_type": "code",
   "execution_count": null,
   "id": "1fcf000c-d112-4b73-892a-56fcc4a2578d",
   "metadata": {},
   "outputs": [],
   "source": [
    "# method for summarize a website using beautifulsoup and deepseek\n",
    "def summarize_website(website):\n",
    "    # creates the user prompt\n",
    "    website_text = Website(website).get_text()\n",
    "    user_prompt = f\"You are looking at a website titled \\\"{Website(website).title}\\\"\"\n",
    "    user_prompt += \"\\nThe contents of this website is as follows; \\\n",
    "please provide a short summary of this website in markdown. \\\n",
    "If it includes news or announcements, then summarize these, ignoring text that might be navigation related too.\\n\\n\"\n",
    "    user_prompt += website_text\n",
    "\n",
    "    # fetches the response from ollama\n",
    "    response = ollama.chat(model=\"llama3.2\", messages=[{\"role\": \"user\", \"content\": user_prompt}])\n",
    "    return response.get(\"message\", {}).get(\"content\", \"No response received.\")"
   ]
  },
  {
   "cell_type": "code",
   "execution_count": null,
   "id": "3daa9ea6-7102-4180-a529-9a2e202061d6",
   "metadata": {},
   "outputs": [],
   "source": [
    "print(display_in_markdown(summarize_website(\"https://wchiming.com/blog/bitcoin\")))"
   ]
  }
 ],
 "metadata": {
  "kernelspec": {
   "display_name": "Python 3 (ipykernel)",
   "language": "python",
   "name": "python3"
  },
  "language_info": {
   "codemirror_mode": {
    "name": "ipython",
    "version": 3
   },
   "file_extension": ".py",
   "mimetype": "text/x-python",
   "name": "python",
   "nbconvert_exporter": "python",
   "pygments_lexer": "ipython3",
   "version": "3.11.11"
  }
 },
 "nbformat": 4,
 "nbformat_minor": 5
}
